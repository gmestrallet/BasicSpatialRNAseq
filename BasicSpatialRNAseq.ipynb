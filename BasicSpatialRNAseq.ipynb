{
  "nbformat": 4,
  "nbformat_minor": 0,
  "metadata": {
    "colab": {
      "provenance": [],
      "authorship_tag": "ABX9TyNQXJYQg4cIvl2kpn5RO5o1",
      "include_colab_link": true
    },
    "kernelspec": {
      "name": "python3",
      "display_name": "Python 3"
    },
    "language_info": {
      "name": "python"
    }
  },
  "cells": [
    {
      "cell_type": "markdown",
      "metadata": {
        "id": "view-in-github",
        "colab_type": "text"
      },
      "source": [
        "<a href=\"https://colab.research.google.com/github/gmestrallet/BasicSpatialRNAseq/blob/main/BasicSpatialRNAseq.ipynb\" target=\"_parent\"><img src=\"https://colab.research.google.com/assets/colab-badge.svg\" alt=\"Open In Colab\"/></a>"
      ]
    },
    {
      "cell_type": "markdown",
      "source": [
        "This notebook demonstrates how to do basic visium spatial RNAseq analysis using scanpy with data stored in google drive.\n",
        "More information available https://scanpy.readthedocs.io/en/stable/tutorials/spatial/basic-analysis.html"
      ],
      "metadata": {
        "id": "RbGmD6e_47Mx"
      }
    },
    {
      "cell_type": "code",
      "source": [
        "#Mount Google Drive to access your files, if they are stored there.\n",
        "from google.colab import drive\n",
        "drive.mount('/content/drive')"
      ],
      "metadata": {
        "id": "vJ9GQBXE3vDW"
      },
      "execution_count": null,
      "outputs": []
    },
    {
      "cell_type": "code",
      "source": [
        "#Set the path where you want to store the files (use your own directory).\n",
        "import os"
      ],
      "metadata": {
        "id": "PesUlZUj3yXO"
      },
      "execution_count": null,
      "outputs": []
    },
    {
      "cell_type": "code",
      "source": [
        "#Replace 'RNAseq_folder' with the path to the folder in your Google Drive or use '/content/' for local storage.\n",
        "rna_seq_path = '/content/drive/My Drive/RNAseq_folder'\n",
        "os.chdir(rna_seq_path)"
      ],
      "metadata": {
        "id": "erm1vu_334Pe"
      },
      "execution_count": null,
      "outputs": []
    },
    {
      "cell_type": "code",
      "execution_count": null,
      "metadata": {
        "id": "lyVc9P122Qvy"
      },
      "outputs": [],
      "source": [
        "#Install necessary libraries and import\n",
        "!pip install scanpy  # Make sure scanpy is installed\n",
        "!pip install anndata  # Make sure anndata is installed\n",
        "!pip install scanorama  # Make sure scanorama is installed\n",
        "!pip install h5py  # Make sure h5py is installed\n",
        "!pip install cupy-cuda11x  # Install cupy for CUDA 11.x (change if using a different CUDA version)\n",
        "!pip install leidenalg  # Make sure leidenalg is installed\n",
        "import scanpy as sc\n",
        "import anndata as an\n",
        "import pandas as pd\n",
        "import numpy as np\n",
        "import matplotlib as mpl\n",
        "import matplotlib.pyplot as plt\n",
        "import seaborn as sns\n",
        "import scanorama\n",
        "import h5py\n",
        "import cupy"
      ]
    },
    {
      "cell_type": "code",
      "source": [
        "sc.logging.print_versions()\n",
        "sc.set_figure_params(facecolor=\"white\", figsize=(8, 8))\n",
        "sc.settings.verbosity = 3"
      ],
      "metadata": {
        "id": "BDUNJJ6c2yfn"
      },
      "execution_count": null,
      "outputs": []
    },
    {
      "cell_type": "code",
      "source": [
        "#Read the filtered feature barcode matrix (gene expression data such as filtered_feature_bc_matrix.h5)\n",
        "adata = sc.read_visium(\"/content/drive/My Drive/RNAseq_folder\")\n",
        "adata.var_names_make_unique()\n",
        "adata.var[\"mt\"] = adata.var_names.str.startswith(\"MT-\")\n",
        "sc.pp.calculate_qc_metrics(adata, qc_vars=[\"mt\"], inplace=True)"
      ],
      "metadata": {
        "id": "atTzOOIn2y0O"
      },
      "execution_count": null,
      "outputs": []
    },
    {
      "cell_type": "code",
      "source": [
        "adata"
      ],
      "metadata": {
        "id": "cxBGaztB2y22"
      },
      "execution_count": null,
      "outputs": []
    },
    {
      "cell_type": "code",
      "source": [
        "#QC and preprocessing, we perform basic filtering of spots based on total counts and expressed genes\n",
        "fig, axs = plt.subplots(1, 4, figsize=(15, 4))\n",
        "sns.histplot(adata.obs[\"total_counts\"], kde=False, ax=axs[0])\n",
        "sns.histplot(\n",
        "    adata.obs[\"total_counts\"][adata.obs[\"total_counts\"] < 10000],\n",
        "    kde=False,\n",
        "    bins=40,\n",
        "    ax=axs[1],\n",
        ")\n",
        "sns.histplot(adata.obs[\"n_genes_by_counts\"], kde=False, bins=60, ax=axs[2])\n",
        "sns.histplot(\n",
        "    adata.obs[\"n_genes_by_counts\"][adata.obs[\"n_genes_by_counts\"] < 4000],\n",
        "    kde=False,\n",
        "    bins=60,\n",
        "    ax=axs[3],\n",
        ")"
      ],
      "metadata": {
        "id": "tN_d1bGI2y5e"
      },
      "execution_count": null,
      "outputs": []
    },
    {
      "cell_type": "code",
      "source": [
        "sc.pp.filter_cells(adata, min_counts=100)\n",
        "sc.pp.filter_cells(adata, max_counts=35000)\n",
        "adata = adata[adata.obs[\"pct_counts_mt\"] < 20].copy()\n",
        "print(f\"#cells after MT filter: {adata.n_obs}\")\n",
        "sc.pp.filter_genes(adata, min_cells=10)"
      ],
      "metadata": {
        "id": "IH9f7wMc2y8G"
      },
      "execution_count": null,
      "outputs": []
    },
    {
      "cell_type": "code",
      "source": [
        "sc.pp.normalize_total(adata, inplace=True)\n",
        "sc.pp.log1p(adata)\n",
        "sc.pp.highly_variable_genes(adata, flavor=\"seurat\", n_top_genes=2000)"
      ],
      "metadata": {
        "id": "SDaeGP4f2y-u"
      },
      "execution_count": null,
      "outputs": []
    },
    {
      "cell_type": "code",
      "source": [
        "#Manifold embedding and clustering based on transcriptional similarity\n",
        "sc.pp.pca(adata)\n",
        "sc.pp.neighbors(adata)\n",
        "sc.tl.umap(adata)\n",
        "sc.tl.leiden(\n",
        "    adata, key_added=\"clusters\", directed=False, n_iterations=2\n",
        ")"
      ],
      "metadata": {
        "id": "7ZBI2pm22zBf"
      },
      "execution_count": null,
      "outputs": []
    },
    {
      "cell_type": "code",
      "source": [
        "#Visualization in spatial coordinates\n",
        "plt.rcParams[\"figure.figsize\"] = (4, 4)\n",
        "sc.pl.umap(adata, color=[\"total_counts\", \"n_genes_by_counts\", \"clusters\"], wspace=0.4)"
      ],
      "metadata": {
        "id": "I8w-VXFv2zD-"
      },
      "execution_count": null,
      "outputs": []
    },
    {
      "cell_type": "code",
      "source": [
        "adata.obsm['spatial'] = adata.obsm['spatial'].astype(int)\n",
        "plt.rcParams[\"figure.figsize\"] = (8, 8)\n",
        "sc.pl.spatial(adata, img_key=\"hires\", color=[\"total_counts\", \"n_genes_by_counts\"])"
      ],
      "metadata": {
        "id": "ndsXMPJI2zGr"
      },
      "execution_count": null,
      "outputs": []
    },
    {
      "cell_type": "code",
      "source": [
        "#Visualization of clusters in spatial coordinates\n",
        "sc.pl.spatial(adata, img_key=\"hires\", color=\"clusters\", size=1.5)"
      ],
      "metadata": {
        "id": "DExMZfZP2zJO"
      },
      "execution_count": null,
      "outputs": []
    },
    {
      "cell_type": "code",
      "source": [
        "#Visualization of genes in spatial coordinates. replace with your genes of interest. For human genes write genes' names in capital letters.\n",
        "sc.pl.spatial(adata, img_key=\"hires\", color=['Cd4','Cd8a'])"
      ],
      "metadata": {
        "id": "lTIYAIHt2zL-"
      },
      "execution_count": null,
      "outputs": []
    }
  ]
}