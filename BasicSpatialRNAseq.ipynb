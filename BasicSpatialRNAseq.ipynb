{
  "cells": [
    {
      "cell_type": "markdown",
      "metadata": {
        "id": "view-in-github",
        "colab_type": "text"
      },
      "source": [
        "<a href=\"https://colab.research.google.com/github/gmestrallet/BasicSpatialRNAseq/blob/main/BasicSpatialRNAseq.ipynb\" target=\"_parent\"><img src=\"https://colab.research.google.com/assets/colab-badge.svg\" alt=\"Open In Colab\"/></a>"
      ]
    },
    {
      "cell_type": "markdown",
      "metadata": {
        "id": "RbGmD6e_47Mx"
      },
      "source": [
        "This notebook demonstrates how to do basic visium spatial RNAseq analysis using scanpy with data stored in google drive.\n",
        "More information available https://scanpy.readthedocs.io/en/stable/tutorials/spatial/basic-analysis.html and https://squidpy.readthedocs.io/en/stable/notebooks/tutorials/tutorial_visium_hne.html"
      ]
    },
    {
      "cell_type": "code",
      "execution_count": null,
      "metadata": {
        "id": "vJ9GQBXE3vDW"
      },
      "outputs": [],
      "source": [
        "#Mount Google Drive to access your files, if they are stored there.\n",
        "from google.colab import drive\n",
        "drive.mount('/content/drive')"
      ]
    },
    {
      "cell_type": "code",
      "execution_count": null,
      "metadata": {
        "id": "PesUlZUj3yXO"
      },
      "outputs": [],
      "source": [
        "#Set the path where you want to store the files (use your own directory).\n",
        "import os"
      ]
    },
    {
      "cell_type": "code",
      "execution_count": null,
      "metadata": {
        "id": "erm1vu_334Pe"
      },
      "outputs": [],
      "source": [
        "#Replace 'RNAseq_folder' with the path to the folder in your Google Drive or use '/content/' for local storage.\n",
        "rna_seq_path = '/content/drive/My Drive/RNAseq_folder'\n",
        "os.chdir(rna_seq_path)"
      ]
    },
    {
      "cell_type": "code",
      "execution_count": null,
      "metadata": {
        "id": "lyVc9P122Qvy"
      },
      "outputs": [],
      "source": [
        "#Import necessary libraries and import\n",
        "!pip install scanpy  # Make sure scanpy is installed\n",
        "!pip install anndata  # Make sure anndata is installed\n",
        "!pip install scanorama  # Make sure scanorama is installed\n",
        "!pip install h5py  # Make sure h5py is installed\n",
        "!pip install cupy-cuda12x # Make sure cupy is installed, this installs the cupy package matching CUDA 11.x. Change to cupy-cuda12x if using CUDA 12.x\n",
        "!pip install leidenalg  # Make sure leidenalg is installed\n",
        "!pip install squidpy  # Make sure squidpy is installed\n",
        "!pip install distributed\n",
        "!pip install backports.functools_lru_cache\n",
        "import scanpy as sc\n",
        "import anndata as an\n",
        "import pandas as pd\n",
        "import numpy as np\n",
        "import matplotlib as mpl\n",
        "import matplotlib.pyplot as plt\n",
        "import seaborn as sns\n",
        "import scanorama\n",
        "import h5py\n",
        "import cupy\n",
        "import squidpy as sq\n",
        "import distributed"
      ]
    },
    {
      "cell_type": "code",
      "execution_count": null,
      "metadata": {
        "id": "BDUNJJ6c2yfn"
      },
      "outputs": [],
      "source": [
        "#sc.logging.print_versions()\n",
        "sc.set_figure_params(facecolor=\"white\", figsize=(8, 8))\n",
        "sc.settings.verbosity = 3"
      ]
    },
    {
      "cell_type": "code",
      "execution_count": null,
      "metadata": {
        "id": "atTzOOIn2y0O"
      },
      "outputs": [],
      "source": [
        "#Read the filtered feature barcode matrix (gene expression data such as filtered_feature_bc_matrix.h5)\n",
        "adata = sc.read_visium(\"/content/drive/My Drive/RNAseq_folder\")\n",
        "adata.var_names_make_unique()\n",
        "adata.var[\"mt\"] = adata.var_names.str.startswith(\"MT-\")\n",
        "sc.pp.calculate_qc_metrics(adata, qc_vars=[\"mt\"], inplace=True)"
      ]
    },
    {
      "cell_type": "code",
      "execution_count": null,
      "metadata": {
        "id": "cxBGaztB2y22"
      },
      "outputs": [],
      "source": [
        "adata"
      ]
    },
    {
      "cell_type": "code",
      "execution_count": null,
      "metadata": {
        "id": "tN_d1bGI2y5e"
      },
      "outputs": [],
      "source": [
        "#QC and preprocessing, we perform basic filtering of spots based on total counts and expressed genes\n",
        "fig, axs = plt.subplots(1, 4, figsize=(15, 4))\n",
        "sns.histplot(adata.obs[\"total_counts\"], kde=False, ax=axs[0])\n",
        "sns.histplot(\n",
        "    adata.obs[\"total_counts\"][adata.obs[\"total_counts\"] < 10000],\n",
        "    kde=False,\n",
        "    bins=40,\n",
        "    ax=axs[1],\n",
        ")\n",
        "sns.histplot(adata.obs[\"n_genes_by_counts\"], kde=False, bins=60, ax=axs[2])\n",
        "sns.histplot(\n",
        "    adata.obs[\"n_genes_by_counts\"][adata.obs[\"n_genes_by_counts\"] < 4000],\n",
        "    kde=False,\n",
        "    bins=60,\n",
        "    ax=axs[3],\n",
        ")"
      ]
    },
    {
      "cell_type": "code",
      "execution_count": null,
      "metadata": {
        "id": "IH9f7wMc2y8G"
      },
      "outputs": [],
      "source": [
        "sc.pp.filter_cells(adata, min_counts=100)\n",
        "sc.pp.filter_cells(adata, max_counts=35000)\n",
        "adata = adata[adata.obs[\"pct_counts_mt\"] < 20].copy()\n",
        "print(f\"#cells after MT filter: {adata.n_obs}\")\n",
        "sc.pp.filter_genes(adata, min_cells=10)"
      ]
    },
    {
      "cell_type": "code",
      "execution_count": null,
      "metadata": {
        "id": "SDaeGP4f2y-u"
      },
      "outputs": [],
      "source": [
        "sc.pp.normalize_total(adata, inplace=True)\n",
        "sc.pp.log1p(adata)\n",
        "sc.pp.highly_variable_genes(adata, flavor=\"seurat\", n_top_genes=2000)"
      ]
    },
    {
      "cell_type": "code",
      "execution_count": null,
      "metadata": {
        "id": "7ZBI2pm22zBf"
      },
      "outputs": [],
      "source": [
        "#Manifold embedding and clustering based on transcriptional similarity\n",
        "sc.pp.pca(adata)\n",
        "sc.pp.neighbors(adata)\n",
        "sc.tl.umap(adata)\n",
        "sc.tl.leiden(\n",
        "    adata, key_added=\"clusters\", directed=False, n_iterations=2\n",
        ")"
      ]
    },
    {
      "cell_type": "code",
      "execution_count": null,
      "metadata": {
        "id": "I8w-VXFv2zD-"
      },
      "outputs": [],
      "source": [
        "#Visualization in spatial coordinates\n",
        "plt.rcParams[\"figure.figsize\"] = (4, 4)\n",
        "sc.pl.umap(adata, color=[\"total_counts\", \"n_genes_by_counts\", \"clusters\"], wspace=0.4)"
      ]
    },
    {
      "cell_type": "code",
      "execution_count": null,
      "metadata": {
        "id": "ndsXMPJI2zGr"
      },
      "outputs": [],
      "source": [
        "adata.obsm['spatial'] = adata.obsm['spatial'].astype(int)\n",
        "plt.rcParams[\"figure.figsize\"] = (8, 8)\n",
        "sc.pl.spatial(adata, img_key=\"hires\", color=[\"total_counts\", \"n_genes_by_counts\"])"
      ]
    },
    {
      "cell_type": "code",
      "execution_count": null,
      "metadata": {
        "id": "DExMZfZP2zJO"
      },
      "outputs": [],
      "source": [
        "#Visualization of clusters in spatial coordinates\n",
        "sc.pl.spatial(adata, img_key=\"hires\", color=\"clusters\", size=1)"
      ]
    },
    {
      "cell_type": "code",
      "execution_count": null,
      "metadata": {
        "id": "lTIYAIHt2zL-"
      },
      "outputs": [],
      "source": [
        "#Visualization of genes in spatial coordinates. Replace with your genes of interest. For human genes write genes' names in capital letters.\n",
        "sc.pl.spatial(adata, img_key=\"hires\", color=['Cd4','Cd8a'])"
      ]
    },
    {
      "cell_type": "code",
      "execution_count": null,
      "metadata": {
        "id": "Q8z2DOJfSx_u"
      },
      "outputs": [],
      "source": [
        "sc.tl.rank_genes_groups(adata, \"clusters\", method=\"t-test\")\n",
        "sc.pl.rank_genes_groups_heatmap(adata, groups=\"0\", n_genes=10, groupby=\"clusters\") #Replace with your cluster of interest."
      ]
    },
    {
      "cell_type": "code",
      "execution_count": null,
      "metadata": {
        "id": "HBjtCwkjSx9P"
      },
      "outputs": [],
      "source": [
        "#Neighborhood enrichment\n",
        "sq.gr.spatial_neighbors(adata)\n",
        "sq.gr.nhood_enrichment(adata, cluster_key=\"clusters\")\n",
        "sq.pl.nhood_enrichment(adata, cluster_key=\"clusters\")"
      ]
    },
    {
      "cell_type": "code",
      "execution_count": null,
      "metadata": {
        "id": "LIiXyrDQSx6-"
      },
      "outputs": [],
      "source": [
        "#Co-occurrence across spatial dimensions\n",
        "sq.gr.co_occurrence(adata, cluster_key=\"clusters\")\n",
        "sq.pl.co_occurrence(\n",
        "    adata,\n",
        "    cluster_key=\"clusters\",\n",
        "    clusters=\"0\", #Replace with your cluster of interest.\n",
        "    figsize=(8, 4),\n",
        ")"
      ]
    },
    {
      "cell_type": "code",
      "execution_count": null,
      "metadata": {
        "id": "6VM28AfySx4W"
      },
      "outputs": [],
      "source": [
        "#Spatially variable genes with Moran’s I\n",
        "genes = adata[:, adata.var.highly_variable].var_names.values[:1000]\n",
        "sq.gr.spatial_autocorr(\n",
        "    adata,\n",
        "    mode=\"moran\",\n",
        "    genes=genes,\n",
        "    n_perms=100,\n",
        "    n_jobs=1,\n",
        ")"
      ]
    },
    {
      "cell_type": "code",
      "execution_count": null,
      "metadata": {
        "id": "yaQeTKkRSxwe"
      },
      "outputs": [],
      "source": [
        "adata.uns[\"moranI\"].head(10)"
      ]
    },
    {
      "cell_type": "code",
      "execution_count": null,
      "metadata": {
        "colab": {
          "background_save": true
        },
        "id": "tNFxY7zoTT-e"
      },
      "outputs": [],
      "source": [
        "sq.pl.spatial_scatter(adata, color=['Col3a1', 'clusters']) #Replace with your genes of interest following Moran's I."
      ]
    }
  ],
  "metadata": {
    "colab": {
      "provenance": [],
      "authorship_tag": "ABX9TyNgLwDV6rfbHfquKHUducpF",
      "include_colab_link": true
    },
    "kernelspec": {
      "display_name": "Python 3",
      "name": "python3"
    },
    "language_info": {
      "name": "python"
    }
  },
  "nbformat": 4,
  "nbformat_minor": 0
}